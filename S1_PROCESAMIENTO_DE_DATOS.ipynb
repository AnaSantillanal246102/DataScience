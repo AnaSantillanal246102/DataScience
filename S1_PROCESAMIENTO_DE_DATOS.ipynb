{
  "nbformat": 4,
  "nbformat_minor": 0,
  "metadata": {
    "colab": {
      "provenance": [],
      "toc_visible": true,
      "include_colab_link": true
    },
    "kernelspec": {
      "name": "python3",
      "display_name": "Python 3"
    },
    "language_info": {
      "name": "python"
    }
  },
  "cells": [
    {
      "cell_type": "markdown",
      "metadata": {
        "id": "view-in-github",
        "colab_type": "text"
      },
      "source": [
        "<a href=\"https://colab.research.google.com/github/AnaSantillanal246102/DataScience/blob/main/S1_PROCESAMIENTO_DE_DATOS.ipynb\" target=\"_parent\"><img src=\"https://colab.research.google.com/assets/colab-badge.svg\" alt=\"Open In Colab\"/></a>"
      ]
    },
    {
      "cell_type": "markdown",
      "source": [
        "# Ejemplo 01: Variables y Tipos de Datos"
      ],
      "metadata": {
        "id": "RwaYI-fZqZ_8"
      }
    },
    {
      "cell_type": "markdown",
      "source": [
        "Declaración de variables:\n"
      ],
      "metadata": {
        "id": "bfld4vApql0m"
      }
    },
    {
      "cell_type": "code",
      "execution_count": null,
      "metadata": {
        "id": "hU4KaRtfqQE-",
        "colab": {
          "base_uri": "https://localhost:8080/"
        },
        "outputId": "ad699769-11f4-4fdf-956f-69d5413ce0af"
      },
      "outputs": [
        {
          "output_type": "stream",
          "name": "stdout",
          "text": [
            "10\n",
            "Hola, Python!\n",
            "Mario\n",
            "30\n",
            "1.75\n",
            "True\n"
          ]
        }
      ],
      "source": [
        "numero = 10\n",
        "mensaje = \"Hola, Python!\" #String\n",
        "nombre = \"Mario\"\n",
        "edad = 30\n",
        "altura = 1.75\n",
        "es_estudiante = True\n",
        "\n",
        "print(numero)        # Salida: 10\n",
        "print(mensaje)       # Salida: Hola, Python!\n",
        "print(nombre)        # Salida: Mario\n",
        "print(edad)          # Salida: 30\n",
        "print(altura)        # Salida: 1.75\n",
        "print(es_estudiante) # Salida: False"
      ]
    },
    {
      "cell_type": "markdown",
      "source": [
        "Tipos de datos en Python"
      ],
      "metadata": {
        "id": "WgCsvvYLq0Cs"
      }
    },
    {
      "cell_type": "markdown",
      "source": [
        "HOLA, ESTA ES NUESTRA PRIMER CLASE"
      ],
      "metadata": {
        "id": "FZ6d2hqYW1FJ"
      }
    },
    {
      "cell_type": "code",
      "source": [
        "numero = 17\n",
        "flotante = 10.5\n",
        "complejo = 1 + 2j\n",
        "cadena = \"Hola, Python!\"\n",
        "booleano = True\n",
        "\n",
        "print(type(numero))    # Salida: <class 'int'>  integer\n",
        "print(type(flotante))  # Salida: <class 'float'>\n",
        "print(type(complejo))  # Salida: <class 'complex'>\n",
        "print(type(cadena))    # Salida: <class 'str'> string\n",
        "print(type(booleano))  # Salida: <class 'bool'> booleano"
      ],
      "metadata": {
        "id": "0r66cmXvq0sX",
        "colab": {
          "base_uri": "https://localhost:8080/"
        },
        "outputId": "c7da32ea-1bd1-460b-e028-55bb662508ed"
      },
      "execution_count": null,
      "outputs": [
        {
          "output_type": "stream",
          "name": "stdout",
          "text": [
            "<class 'int'>\n",
            "<class 'float'>\n",
            "<class 'complex'>\n",
            "<class 'str'>\n",
            "<class 'bool'>\n"
          ]
        }
      ]
    },
    {
      "cell_type": "markdown",
      "source": [
        "# Reto 1\n",
        " Instrucciones\n",
        "📚 Declara las variables correspondientes para almacenar la siguiente información de al menos 3 cursos:\n",
        "\n",
        "Nombre del curso (String).\n",
        "\n",
        "Código numérico del curso (Integer).\n",
        "\n",
        "Duración en horas del curso (Float).\n",
        "\n",
        "Disponibilidad para inscripción (Boolean).\n",
        "\n",
        "🖨️ Imprime la información de cada curso de la siguiente manera:\n",
        "\n",
        "Curso: Introducción a Python - Código:  101 - Duración:  45.5 horas - Disponible:  True\n",
        "🧮 Desafío adicional: Intenta agregar más cursos y mejorar la estructura de datos para facilitar la manipulación y visualización de la información."
      ],
      "metadata": {
        "id": "qO6LDsIfNdjV"
      }
    },
    {
      "cell_type": "code",
      "source": [
        "#Reto 1\n",
        "#Version 1\n",
        "# Curso 1\n",
        "nombre1 = \"Introducción a Python\"\n",
        "codigo1 = 101\n",
        "duracion1 = 45.5\n",
        "disponible1 = True\n",
        "\n",
        "# Curso 2\n",
        "nombre2 = \"Machine Learning Básico\"\n",
        "codigo2 = 102\n",
        "duracion2 = 60.0\n",
        "disponible2 = False\n",
        "\n",
        "# Curso 3\n",
        "nombre3 = \"Desarrollo Web con Django\"\n",
        "codigo3 = 103\n",
        "duracion3 = 50.0\n",
        "disponible3 = True\n",
        "\n",
        "# Imprimir la información\n",
        "print(f\"Curso: {nombre1} - Código: {codigo1} - Duración: {duracion1} horas - Disponible: {disponible1}\")\n",
        "print(f\"Curso: {nombre2} - Código: {codigo2} - Duración: {duracion2} horas - Disponible: {disponible2}\")\n",
        "print(f\"Curso: {nombre3} - Código: {codigo3} - Duración: {duracion3} horas - Disponible: {disponible3}\")\n",
        "\n",
        "#Version 2\n",
        "import pandas as pd\n",
        "datos = {\n",
        "    'Curso': [\"Introducción a Python\", \"Machine Learning Básico\", \"Desarrollo Web con Django\"],\n",
        "    'Codigo': [101, 102, 103],\n",
        "    'Duracion': [45.5, 60.0, 50.0],\n",
        "    'Disponible': [True, False, True]\n",
        "}\n",
        "df = pd.DataFrame(datos)\n",
        "df"
      ],
      "metadata": {
        "colab": {
          "base_uri": "https://localhost:8080/",
          "height": 195
        },
        "id": "N49U1b6mOUaB",
        "outputId": "050b8cdf-eb07-497c-d8be-9f26983b60eb"
      },
      "execution_count": null,
      "outputs": [
        {
          "output_type": "stream",
          "name": "stdout",
          "text": [
            "Curso: Introducción a Python - Código: 101 - Duración: 45.5 horas - Disponible: True\n",
            "Curso: Machine Learning Básico - Código: 102 - Duración: 60.0 horas - Disponible: False\n",
            "Curso: Desarrollo Web con Django - Código: 103 - Duración: 50.0 horas - Disponible: True\n"
          ]
        },
        {
          "output_type": "execute_result",
          "data": {
            "text/plain": [
              "                       Curso  Codigo  Duracion  Disponible\n",
              "0      Introducción a Python     101      45.5        True\n",
              "1    Machine Learning Básico     102      60.0       False\n",
              "2  Desarrollo Web con Django     103      50.0        True"
            ],
            "text/html": [
              "\n",
              "  <div id=\"df-a79a1144-fd57-4511-b14d-d78d8ad9fa87\" class=\"colab-df-container\">\n",
              "    <div>\n",
              "<style scoped>\n",
              "    .dataframe tbody tr th:only-of-type {\n",
              "        vertical-align: middle;\n",
              "    }\n",
              "\n",
              "    .dataframe tbody tr th {\n",
              "        vertical-align: top;\n",
              "    }\n",
              "\n",
              "    .dataframe thead th {\n",
              "        text-align: right;\n",
              "    }\n",
              "</style>\n",
              "<table border=\"1\" class=\"dataframe\">\n",
              "  <thead>\n",
              "    <tr style=\"text-align: right;\">\n",
              "      <th></th>\n",
              "      <th>Curso</th>\n",
              "      <th>Codigo</th>\n",
              "      <th>Duracion</th>\n",
              "      <th>Disponible</th>\n",
              "    </tr>\n",
              "  </thead>\n",
              "  <tbody>\n",
              "    <tr>\n",
              "      <th>0</th>\n",
              "      <td>Introducción a Python</td>\n",
              "      <td>101</td>\n",
              "      <td>45.5</td>\n",
              "      <td>True</td>\n",
              "    </tr>\n",
              "    <tr>\n",
              "      <th>1</th>\n",
              "      <td>Machine Learning Básico</td>\n",
              "      <td>102</td>\n",
              "      <td>60.0</td>\n",
              "      <td>False</td>\n",
              "    </tr>\n",
              "    <tr>\n",
              "      <th>2</th>\n",
              "      <td>Desarrollo Web con Django</td>\n",
              "      <td>103</td>\n",
              "      <td>50.0</td>\n",
              "      <td>True</td>\n",
              "    </tr>\n",
              "  </tbody>\n",
              "</table>\n",
              "</div>\n",
              "    <div class=\"colab-df-buttons\">\n",
              "\n",
              "  <div class=\"colab-df-container\">\n",
              "    <button class=\"colab-df-convert\" onclick=\"convertToInteractive('df-a79a1144-fd57-4511-b14d-d78d8ad9fa87')\"\n",
              "            title=\"Convert this dataframe to an interactive table.\"\n",
              "            style=\"display:none;\">\n",
              "\n",
              "  <svg xmlns=\"http://www.w3.org/2000/svg\" height=\"24px\" viewBox=\"0 -960 960 960\">\n",
              "    <path d=\"M120-120v-720h720v720H120Zm60-500h600v-160H180v160Zm220 220h160v-160H400v160Zm0 220h160v-160H400v160ZM180-400h160v-160H180v160Zm440 0h160v-160H620v160ZM180-180h160v-160H180v160Zm440 0h160v-160H620v160Z\"/>\n",
              "  </svg>\n",
              "    </button>\n",
              "\n",
              "  <style>\n",
              "    .colab-df-container {\n",
              "      display:flex;\n",
              "      gap: 12px;\n",
              "    }\n",
              "\n",
              "    .colab-df-convert {\n",
              "      background-color: #E8F0FE;\n",
              "      border: none;\n",
              "      border-radius: 50%;\n",
              "      cursor: pointer;\n",
              "      display: none;\n",
              "      fill: #1967D2;\n",
              "      height: 32px;\n",
              "      padding: 0 0 0 0;\n",
              "      width: 32px;\n",
              "    }\n",
              "\n",
              "    .colab-df-convert:hover {\n",
              "      background-color: #E2EBFA;\n",
              "      box-shadow: 0px 1px 2px rgba(60, 64, 67, 0.3), 0px 1px 3px 1px rgba(60, 64, 67, 0.15);\n",
              "      fill: #174EA6;\n",
              "    }\n",
              "\n",
              "    .colab-df-buttons div {\n",
              "      margin-bottom: 4px;\n",
              "    }\n",
              "\n",
              "    [theme=dark] .colab-df-convert {\n",
              "      background-color: #3B4455;\n",
              "      fill: #D2E3FC;\n",
              "    }\n",
              "\n",
              "    [theme=dark] .colab-df-convert:hover {\n",
              "      background-color: #434B5C;\n",
              "      box-shadow: 0px 1px 3px 1px rgba(0, 0, 0, 0.15);\n",
              "      filter: drop-shadow(0px 1px 2px rgba(0, 0, 0, 0.3));\n",
              "      fill: #FFFFFF;\n",
              "    }\n",
              "  </style>\n",
              "\n",
              "    <script>\n",
              "      const buttonEl =\n",
              "        document.querySelector('#df-a79a1144-fd57-4511-b14d-d78d8ad9fa87 button.colab-df-convert');\n",
              "      buttonEl.style.display =\n",
              "        google.colab.kernel.accessAllowed ? 'block' : 'none';\n",
              "\n",
              "      async function convertToInteractive(key) {\n",
              "        const element = document.querySelector('#df-a79a1144-fd57-4511-b14d-d78d8ad9fa87');\n",
              "        const dataTable =\n",
              "          await google.colab.kernel.invokeFunction('convertToInteractive',\n",
              "                                                    [key], {});\n",
              "        if (!dataTable) return;\n",
              "\n",
              "        const docLinkHtml = 'Like what you see? Visit the ' +\n",
              "          '<a target=\"_blank\" href=https://colab.research.google.com/notebooks/data_table.ipynb>data table notebook</a>'\n",
              "          + ' to learn more about interactive tables.';\n",
              "        element.innerHTML = '';\n",
              "        dataTable['output_type'] = 'display_data';\n",
              "        await google.colab.output.renderOutput(dataTable, element);\n",
              "        const docLink = document.createElement('div');\n",
              "        docLink.innerHTML = docLinkHtml;\n",
              "        element.appendChild(docLink);\n",
              "      }\n",
              "    </script>\n",
              "  </div>\n",
              "\n",
              "\n",
              "    <div id=\"df-cbbd9111-5557-46af-81be-5329591bc9e3\">\n",
              "      <button class=\"colab-df-quickchart\" onclick=\"quickchart('df-cbbd9111-5557-46af-81be-5329591bc9e3')\"\n",
              "                title=\"Suggest charts\"\n",
              "                style=\"display:none;\">\n",
              "\n",
              "<svg xmlns=\"http://www.w3.org/2000/svg\" height=\"24px\"viewBox=\"0 0 24 24\"\n",
              "     width=\"24px\">\n",
              "    <g>\n",
              "        <path d=\"M19 3H5c-1.1 0-2 .9-2 2v14c0 1.1.9 2 2 2h14c1.1 0 2-.9 2-2V5c0-1.1-.9-2-2-2zM9 17H7v-7h2v7zm4 0h-2V7h2v10zm4 0h-2v-4h2v4z\"/>\n",
              "    </g>\n",
              "</svg>\n",
              "      </button>\n",
              "\n",
              "<style>\n",
              "  .colab-df-quickchart {\n",
              "      --bg-color: #E8F0FE;\n",
              "      --fill-color: #1967D2;\n",
              "      --hover-bg-color: #E2EBFA;\n",
              "      --hover-fill-color: #174EA6;\n",
              "      --disabled-fill-color: #AAA;\n",
              "      --disabled-bg-color: #DDD;\n",
              "  }\n",
              "\n",
              "  [theme=dark] .colab-df-quickchart {\n",
              "      --bg-color: #3B4455;\n",
              "      --fill-color: #D2E3FC;\n",
              "      --hover-bg-color: #434B5C;\n",
              "      --hover-fill-color: #FFFFFF;\n",
              "      --disabled-bg-color: #3B4455;\n",
              "      --disabled-fill-color: #666;\n",
              "  }\n",
              "\n",
              "  .colab-df-quickchart {\n",
              "    background-color: var(--bg-color);\n",
              "    border: none;\n",
              "    border-radius: 50%;\n",
              "    cursor: pointer;\n",
              "    display: none;\n",
              "    fill: var(--fill-color);\n",
              "    height: 32px;\n",
              "    padding: 0;\n",
              "    width: 32px;\n",
              "  }\n",
              "\n",
              "  .colab-df-quickchart:hover {\n",
              "    background-color: var(--hover-bg-color);\n",
              "    box-shadow: 0 1px 2px rgba(60, 64, 67, 0.3), 0 1px 3px 1px rgba(60, 64, 67, 0.15);\n",
              "    fill: var(--button-hover-fill-color);\n",
              "  }\n",
              "\n",
              "  .colab-df-quickchart-complete:disabled,\n",
              "  .colab-df-quickchart-complete:disabled:hover {\n",
              "    background-color: var(--disabled-bg-color);\n",
              "    fill: var(--disabled-fill-color);\n",
              "    box-shadow: none;\n",
              "  }\n",
              "\n",
              "  .colab-df-spinner {\n",
              "    border: 2px solid var(--fill-color);\n",
              "    border-color: transparent;\n",
              "    border-bottom-color: var(--fill-color);\n",
              "    animation:\n",
              "      spin 1s steps(1) infinite;\n",
              "  }\n",
              "\n",
              "  @keyframes spin {\n",
              "    0% {\n",
              "      border-color: transparent;\n",
              "      border-bottom-color: var(--fill-color);\n",
              "      border-left-color: var(--fill-color);\n",
              "    }\n",
              "    20% {\n",
              "      border-color: transparent;\n",
              "      border-left-color: var(--fill-color);\n",
              "      border-top-color: var(--fill-color);\n",
              "    }\n",
              "    30% {\n",
              "      border-color: transparent;\n",
              "      border-left-color: var(--fill-color);\n",
              "      border-top-color: var(--fill-color);\n",
              "      border-right-color: var(--fill-color);\n",
              "    }\n",
              "    40% {\n",
              "      border-color: transparent;\n",
              "      border-right-color: var(--fill-color);\n",
              "      border-top-color: var(--fill-color);\n",
              "    }\n",
              "    60% {\n",
              "      border-color: transparent;\n",
              "      border-right-color: var(--fill-color);\n",
              "    }\n",
              "    80% {\n",
              "      border-color: transparent;\n",
              "      border-right-color: var(--fill-color);\n",
              "      border-bottom-color: var(--fill-color);\n",
              "    }\n",
              "    90% {\n",
              "      border-color: transparent;\n",
              "      border-bottom-color: var(--fill-color);\n",
              "    }\n",
              "  }\n",
              "</style>\n",
              "\n",
              "      <script>\n",
              "        async function quickchart(key) {\n",
              "          const quickchartButtonEl =\n",
              "            document.querySelector('#' + key + ' button');\n",
              "          quickchartButtonEl.disabled = true;  // To prevent multiple clicks.\n",
              "          quickchartButtonEl.classList.add('colab-df-spinner');\n",
              "          try {\n",
              "            const charts = await google.colab.kernel.invokeFunction(\n",
              "                'suggestCharts', [key], {});\n",
              "          } catch (error) {\n",
              "            console.error('Error during call to suggestCharts:', error);\n",
              "          }\n",
              "          quickchartButtonEl.classList.remove('colab-df-spinner');\n",
              "          quickchartButtonEl.classList.add('colab-df-quickchart-complete');\n",
              "        }\n",
              "        (() => {\n",
              "          let quickchartButtonEl =\n",
              "            document.querySelector('#df-cbbd9111-5557-46af-81be-5329591bc9e3 button');\n",
              "          quickchartButtonEl.style.display =\n",
              "            google.colab.kernel.accessAllowed ? 'block' : 'none';\n",
              "        })();\n",
              "      </script>\n",
              "    </div>\n",
              "\n",
              "  <div id=\"id_8131cf10-c629-4354-9777-0d33d1b80b87\">\n",
              "    <style>\n",
              "      .colab-df-generate {\n",
              "        background-color: #E8F0FE;\n",
              "        border: none;\n",
              "        border-radius: 50%;\n",
              "        cursor: pointer;\n",
              "        display: none;\n",
              "        fill: #1967D2;\n",
              "        height: 32px;\n",
              "        padding: 0 0 0 0;\n",
              "        width: 32px;\n",
              "      }\n",
              "\n",
              "      .colab-df-generate:hover {\n",
              "        background-color: #E2EBFA;\n",
              "        box-shadow: 0px 1px 2px rgba(60, 64, 67, 0.3), 0px 1px 3px 1px rgba(60, 64, 67, 0.15);\n",
              "        fill: #174EA6;\n",
              "      }\n",
              "\n",
              "      [theme=dark] .colab-df-generate {\n",
              "        background-color: #3B4455;\n",
              "        fill: #D2E3FC;\n",
              "      }\n",
              "\n",
              "      [theme=dark] .colab-df-generate:hover {\n",
              "        background-color: #434B5C;\n",
              "        box-shadow: 0px 1px 3px 1px rgba(0, 0, 0, 0.15);\n",
              "        filter: drop-shadow(0px 1px 2px rgba(0, 0, 0, 0.3));\n",
              "        fill: #FFFFFF;\n",
              "      }\n",
              "    </style>\n",
              "    <button class=\"colab-df-generate\" onclick=\"generateWithVariable('df')\"\n",
              "            title=\"Generate code using this dataframe.\"\n",
              "            style=\"display:none;\">\n",
              "\n",
              "  <svg xmlns=\"http://www.w3.org/2000/svg\" height=\"24px\"viewBox=\"0 0 24 24\"\n",
              "       width=\"24px\">\n",
              "    <path d=\"M7,19H8.4L18.45,9,17,7.55,7,17.6ZM5,21V16.75L18.45,3.32a2,2,0,0,1,2.83,0l1.4,1.43a1.91,1.91,0,0,1,.58,1.4,1.91,1.91,0,0,1-.58,1.4L9.25,21ZM18.45,9,17,7.55Zm-12,3A5.31,5.31,0,0,0,4.9,8.1,5.31,5.31,0,0,0,1,6.5,5.31,5.31,0,0,0,4.9,4.9,5.31,5.31,0,0,0,6.5,1,5.31,5.31,0,0,0,8.1,4.9,5.31,5.31,0,0,0,12,6.5,5.46,5.46,0,0,0,6.5,12Z\"/>\n",
              "  </svg>\n",
              "    </button>\n",
              "    <script>\n",
              "      (() => {\n",
              "      const buttonEl =\n",
              "        document.querySelector('#id_8131cf10-c629-4354-9777-0d33d1b80b87 button.colab-df-generate');\n",
              "      buttonEl.style.display =\n",
              "        google.colab.kernel.accessAllowed ? 'block' : 'none';\n",
              "\n",
              "      buttonEl.onclick = () => {\n",
              "        google.colab.notebook.generateWithVariable('df');\n",
              "      }\n",
              "      })();\n",
              "    </script>\n",
              "  </div>\n",
              "\n",
              "    </div>\n",
              "  </div>\n"
            ],
            "application/vnd.google.colaboratory.intrinsic+json": {
              "type": "dataframe",
              "variable_name": "df",
              "summary": "{\n  \"name\": \"df\",\n  \"rows\": 3,\n  \"fields\": [\n    {\n      \"column\": \"Curso\",\n      \"properties\": {\n        \"dtype\": \"string\",\n        \"num_unique_values\": 3,\n        \"samples\": [\n          \"Introducci\\u00f3n a Python\",\n          \"Machine Learning B\\u00e1sico\",\n          \"Desarrollo Web con Django\"\n        ],\n        \"semantic_type\": \"\",\n        \"description\": \"\"\n      }\n    },\n    {\n      \"column\": \"Codigo\",\n      \"properties\": {\n        \"dtype\": \"number\",\n        \"std\": 1,\n        \"min\": 101,\n        \"max\": 103,\n        \"num_unique_values\": 3,\n        \"samples\": [\n          101,\n          102,\n          103\n        ],\n        \"semantic_type\": \"\",\n        \"description\": \"\"\n      }\n    },\n    {\n      \"column\": \"Duracion\",\n      \"properties\": {\n        \"dtype\": \"number\",\n        \"std\": 7.421814692737439,\n        \"min\": 45.5,\n        \"max\": 60.0,\n        \"num_unique_values\": 3,\n        \"samples\": [\n          45.5,\n          60.0,\n          50.0\n        ],\n        \"semantic_type\": \"\",\n        \"description\": \"\"\n      }\n    },\n    {\n      \"column\": \"Disponible\",\n      \"properties\": {\n        \"dtype\": \"boolean\",\n        \"num_unique_values\": 2,\n        \"samples\": [\n          false,\n          true\n        ],\n        \"semantic_type\": \"\",\n        \"description\": \"\"\n      }\n    }\n  ]\n}"
            }
          },
          "metadata": {},
          "execution_count": 10
        }
      ]
    },
    {
      "cell_type": "markdown",
      "source": [
        "# Ejemplo 02: Operadores en Python"
      ],
      "metadata": {
        "id": "eLNn5dYerXPL"
      }
    },
    {
      "cell_type": "markdown",
      "source": [
        "Operadores Aritméticos"
      ],
      "metadata": {
        "id": "Ymrfdn1brZIm"
      }
    },
    {
      "cell_type": "code",
      "source": [
        "# Definir variables 'x' y 'y'.\n",
        "x, y = 10, 3\n",
        "\n",
        "print(\"Suma:\", x + y)   # 13\n",
        "print(\"Resta:\", x - y)  # 7\n",
        "print(\"Multiplicación:\", x * y)  # 30\n",
        "print(\"División:\", x / y)  # 3.333\n",
        "print(\"Módulo:\", x % y)  # 1\n",
        "print(\"Exponente:\", x ** y)  # 1000  10**3\n",
        "print(\"Cociente:\", x // y)  # 3"
      ],
      "metadata": {
        "id": "N697mg3DrbLx",
        "colab": {
          "base_uri": "https://localhost:8080/"
        },
        "outputId": "3c5f8aba-ade2-4ef4-b3c1-8866408e339d"
      },
      "execution_count": null,
      "outputs": [
        {
          "output_type": "stream",
          "name": "stdout",
          "text": [
            "Suma: 13\n",
            "Resta: 7\n",
            "Multiplicación: 30\n",
            "División: 3.3333333333333335\n",
            "Módulo: 1\n",
            "Exponente: 1000\n",
            "Cociente: 3\n"
          ]
        }
      ]
    },
    {
      "cell_type": "markdown",
      "source": [
        "Operadores Relacionales"
      ],
      "metadata": {
        "id": "PhSpEytPrsBF"
      }
    },
    {
      "cell_type": "code",
      "source": [
        "x, y = 10, 3"
      ],
      "metadata": {
        "id": "reYE7Aktca0n"
      },
      "execution_count": null,
      "outputs": []
    },
    {
      "cell_type": "code",
      "source": [
        "# Operadores relacionales\n",
        "print(\"Igual a:\", x == y)  # False\n",
        "print(\"No igual a:\", x != y)  # True\n",
        "print(\"Mayor que:\", x > y)  # True"
      ],
      "metadata": {
        "id": "EAZhdrO_rv96",
        "colab": {
          "base_uri": "https://localhost:8080/"
        },
        "outputId": "1d8c65d4-ddbf-404c-9b88-aff2786e873b"
      },
      "execution_count": null,
      "outputs": [
        {
          "output_type": "stream",
          "name": "stdout",
          "text": [
            "Igual a: False\n",
            "No igual a: True\n",
            "Mayor que: True\n"
          ]
        }
      ]
    },
    {
      "cell_type": "markdown",
      "source": [
        "Operadores Lógicos"
      ],
      "metadata": {
        "id": "CO2abtHTr0Gj"
      }
    },
    {
      "cell_type": "code",
      "source": [
        "print(\"AND lógico:\", (x > y) and (x < 15))  # True\n",
        "print(\"OR lógico:\", (x > y) or (x < 5))  # True\n",
        "print(\"NOT lógico:\", not (x > y))  # False"
      ],
      "metadata": {
        "id": "TawIMjX9r0rh",
        "colab": {
          "base_uri": "https://localhost:8080/"
        },
        "outputId": "016938b7-3c42-49d4-cbe5-19f339976f7b"
      },
      "execution_count": null,
      "outputs": [
        {
          "output_type": "stream",
          "name": "stdout",
          "text": [
            "AND lógico: True\n",
            "OR lógico: True\n",
            "NOT lógico: False\n"
          ]
        }
      ]
    },
    {
      "cell_type": "markdown",
      "source": [
        "Operadores de Asignación"
      ],
      "metadata": {
        "id": "Dsx6lSEksECW"
      }
    },
    {
      "cell_type": "code",
      "source": [
        "# Operadores de asignación\n",
        "x += 5  # x ahora es 15\n",
        "print(\"x incrementado:\", x)  # 15\n",
        "x -= 5  # x ahora es 10\n",
        "print(\"x decrementado:\", x)  # 10\n",
        "x *= 2  # x ahora es 20\n",
        "print(\"x multiplicado:\", x)  # 20\n",
        "x /= 4  # x ahora es 5.0\n",
        "print(\"x dividido:\", x)  # 5.0\n",
        "x %= 3  # x ahora es 2.0\n",
        "print(\"x módulo:\", x)  # 2.0\n",
        "x **= 3  # x ahora es 8.0\n",
        "print(\"x potenciado:\", x)  # 8.0\n",
        "x //= 3  # x ahora es 2.0\n",
        "print(\"x cociente:\", x)  # 2.0\n",
        "\n",
        "# Operador Walrus\n",
        "x = 5\n",
        "print(y := x + 2)  # Salida: 7\n",
        "# 'y' ahora contiene el resultado de la suma, y 'x' sigue siendo 5\n",
        "\n",
        "# Equivalente a:\n",
        "x = 5\n",
        "y = x + 2\n",
        "print(y)"
      ],
      "metadata": {
        "id": "-V2482pFsC64"
      },
      "execution_count": null,
      "outputs": []
    },
    {
      "cell_type": "markdown",
      "source": [
        "# Ejemplo 03: Interpolación de Strings y lectura por teclado"
      ],
      "metadata": {
        "id": "uMO-PiL9sRM_"
      }
    },
    {
      "cell_type": "markdown",
      "source": [
        "Interpolación de strings"
      ],
      "metadata": {
        "id": "_eBkkpcIsS8_"
      }
    },
    {
      "cell_type": "markdown",
      "source": [
        "1. Método de formato %\n"
      ],
      "metadata": {
        "id": "vVaw6eXnsaRa"
      }
    },
    {
      "cell_type": "code",
      "source": [
        "nombre = \"Marco\"\n",
        "print(\"Hola, %s!\" % nombre)"
      ],
      "metadata": {
        "id": "uMo8TYTesYfv",
        "colab": {
          "base_uri": "https://localhost:8080/"
        },
        "outputId": "65aec7f4-4f47-4aa0-95e2-43bb531d74fc"
      },
      "execution_count": null,
      "outputs": [
        {
          "output_type": "stream",
          "name": "stdout",
          "text": [
            "Hola, Marco!\n"
          ]
        }
      ]
    },
    {
      "cell_type": "code",
      "source": [
        "print(\"Hola, Alice!\")"
      ],
      "metadata": {
        "colab": {
          "base_uri": "https://localhost:8080/"
        },
        "id": "Kfef_XyXnmXd",
        "outputId": "15b50f03-4af7-4838-806b-56d3df728739"
      },
      "execution_count": null,
      "outputs": [
        {
          "output_type": "stream",
          "name": "stdout",
          "text": [
            "Hola, Alice!\n"
          ]
        }
      ]
    },
    {
      "cell_type": "markdown",
      "source": [
        "2. Método str.format()\n"
      ],
      "metadata": {
        "id": "3npTU5kLso1C"
      }
    },
    {
      "cell_type": "code",
      "source": [
        "nombre = \"Bob\"\n",
        "edad = 25\n",
        "print(\"Hola, {}. Tienes {} años.\".format(nombre, edad))"
      ],
      "metadata": {
        "id": "KIX4BaHksp5X",
        "colab": {
          "base_uri": "https://localhost:8080/"
        },
        "outputId": "ea193483-e766-4c29-8078-5ad167c7e6f0"
      },
      "execution_count": null,
      "outputs": [
        {
          "output_type": "stream",
          "name": "stdout",
          "text": [
            "Hola, Bob. Tienes 25 años.\n"
          ]
        }
      ]
    },
    {
      "cell_type": "markdown",
      "source": [
        "3. F-Strings (Literal string interpolation)"
      ],
      "metadata": {
        "id": "xkk2Oo4mtKdc"
      }
    },
    {
      "cell_type": "code",
      "source": [
        "nombre = \"Carol\""
      ],
      "metadata": {
        "id": "0tdmL1wWoo-B"
      },
      "execution_count": null,
      "outputs": []
    },
    {
      "cell_type": "code",
      "source": [
        "print(f\"Hola, {nombre}!\") #f-string\n",
        "print(\"Hola, %s!\" % nombre) #formato %\n",
        "print(\"Hola, {}!\".format(nombre)) #format\n",
        "print(\"Hola, \",nombre,\"!\") #concatenación"
      ],
      "metadata": {
        "colab": {
          "base_uri": "https://localhost:8080/"
        },
        "id": "h89YTPU-okuO",
        "outputId": "2b53214b-5382-41f8-b8f7-f3654e9c05f0"
      },
      "execution_count": null,
      "outputs": [
        {
          "output_type": "stream",
          "name": "stdout",
          "text": [
            "Hola, Mario!\n",
            "Hola, Mario!\n",
            "Hola, Mario!\n",
            "Hola,  Mario !\n"
          ]
        }
      ]
    },
    {
      "cell_type": "code",
      "source": [
        "nombre = \"Carol\"\n",
        "edad = 30\n",
        "print(f\"Hola, {nombre}. Tienes {edad} años.\")"
      ],
      "metadata": {
        "id": "zjvvLoPztRBQ",
        "colab": {
          "base_uri": "https://localhost:8080/"
        },
        "outputId": "d6abeabb-f113-404a-f9d4-43352b9b0e20"
      },
      "execution_count": null,
      "outputs": [
        {
          "output_type": "stream",
          "name": "stdout",
          "text": [
            "Hola, Carol. Tienes 30 años.\n"
          ]
        }
      ]
    },
    {
      "cell_type": "markdown",
      "source": [
        "**Lectura por teclado**"
      ],
      "metadata": {
        "id": "cT5hDniDtUwq"
      }
    },
    {
      "cell_type": "markdown",
      "source": [
        "1. Ejemplo básico de input()"
      ],
      "metadata": {
        "id": "u35b1DOgtVpb"
      }
    },
    {
      "cell_type": "code",
      "source": [
        "nombre = input(\"Introduce tu nombre: \")\n",
        "print(f\"¡Hola, {nombre}!\")"
      ],
      "metadata": {
        "id": "8gBKmpFmtdbz",
        "colab": {
          "base_uri": "https://localhost:8080/"
        },
        "outputId": "7d3eda26-6cdc-4972-c54e-c3979c1bdf5d"
      },
      "execution_count": null,
      "outputs": [
        {
          "output_type": "stream",
          "name": "stdout",
          "text": [
            "Introduce tu nombre: 12\n",
            "¡Hola, 12!\n"
          ]
        }
      ]
    },
    {
      "cell_type": "markdown",
      "source": [
        "2. Convertir tipos de datos"
      ],
      "metadata": {
        "id": "EB_leq82LIV6"
      }
    },
    {
      "cell_type": "code",
      "source": [
        "edad = input(\"Introduce tu edad: \")\n",
        "edad = int(edad)  # Convierte la entrada a entero\n",
        "#print(f\"Tienes {edad} años.\")\n",
        "\n",
        "# Otra forma de hacerlo en una sola línea\n",
        "edad = int(input(\"Introduce tu edad: \"))\n",
        "print(f\"Tienes {edad} años.\")"
      ],
      "metadata": {
        "id": "D4bk4wIxLLWY",
        "colab": {
          "base_uri": "https://localhost:8080/"
        },
        "outputId": "a8fb10ee-1915-49cc-cf9a-f9c506953863"
      },
      "execution_count": null,
      "outputs": [
        {
          "output_type": "stream",
          "name": "stdout",
          "text": [
            "Introduce tu edad: 27\n",
            "Tienes 27 años.\n"
          ]
        }
      ]
    },
    {
      "cell_type": "markdown",
      "source": [
        "3. Lectura de múltiples valores"
      ],
      "metadata": {
        "id": "bJ9oBxEWLPKM"
      }
    },
    {
      "cell_type": "code",
      "source": [
        "nombre, edad = input(\"Introduce tu nombre y edad: \").split()\n",
        "print(f\"¡Hola, {nombre}! Tienes {edad} años.\")"
      ],
      "metadata": {
        "id": "qiFo3FuRLc0Q",
        "colab": {
          "base_uri": "https://localhost:8080/"
        },
        "outputId": "8569d74a-4162-46a4-bbb8-736d76beeae0"
      },
      "execution_count": null,
      "outputs": [
        {
          "output_type": "stream",
          "name": "stdout",
          "text": [
            "Introduce tu nombre y edad: Marco 28\n",
            "¡Hola, Marco! Tienes 28 años.\n"
          ]
        }
      ]
    },
    {
      "cell_type": "markdown",
      "source": [
        "4. Ejemplo complejo"
      ],
      "metadata": {
        "id": "pOCLb_OCOtjJ"
      }
    },
    {
      "cell_type": "code",
      "source": [
        "nombre = input(\"Introduce tu nombre: \")\n",
        "hobby = input(\"¿Cuál es tu hobby favorito? \")\n",
        "print(f\"¡Hola, {nombre}! Veo que te gusta {hobby}.\")"
      ],
      "metadata": {
        "id": "PZegOdMDOu1A",
        "colab": {
          "base_uri": "https://localhost:8080/"
        },
        "outputId": "afed32a1-64ef-482f-aa40-7dc6ce0c89dc"
      },
      "execution_count": null,
      "outputs": [
        {
          "output_type": "stream",
          "name": "stdout",
          "text": [
            "Introduce tu nombre: Marco\n",
            "¿Cuál es tu hobby favorito? Crypto\n",
            "¡Hola, Marco! Veo que te gusta Crypto.\n"
          ]
        }
      ]
    },
    {
      "cell_type": "markdown",
      "source": [
        "FORMATEAR TEXTO"
      ],
      "metadata": {
        "id": "VZTX2duGOzMD"
      }
    },
    {
      "cell_type": "code",
      "source": [
        "# 9 dígitos: 4 enteros, 1 punto y 4 decimales\n",
        "print(f\"{3.1415926:09.4f}\") # Salida: 0003.1416\n",
        "print(f\"{153.21:09.4f}\")   # Salida: 0153.2100\n",
        "print(f\"*{'Python':^10}*\") # Salida: *  Python  *"
      ],
      "metadata": {
        "id": "e8Bjgz73O0gI",
        "colab": {
          "base_uri": "https://localhost:8080/"
        },
        "outputId": "6ffb7304-37f1-4a03-f316-b86e0ebc1c19"
      },
      "execution_count": null,
      "outputs": [
        {
          "output_type": "stream",
          "name": "stdout",
          "text": [
            "0003.1416\n",
            "0153.2100\n",
            "*  Python  *\n"
          ]
        }
      ]
    },
    {
      "cell_type": "markdown",
      "source": [
        "# Reto 2\n",
        "👥 Considerando la cantidad de estudiantes, es posible resolver este reto en equipos o de manera individual.\n",
        "\n",
        "🛒 Identifica 5 productos distintos con los siguientes datos:\n",
        "\n",
        "Nombre del producto.\n",
        "Precio.\n",
        "Stock.\n",
        "Cantidad.\n",
        "⌨️ Declara las variables necesarias para almacenar la información de los productos, incluyendo su nombre, precio, stock y cantidad de cada producto que deseas comprar.\n",
        "\n",
        "Puedes usar asignación múltiple para declarar las variables de los productos, en una sola línea:\n",
        "\n",
        "nombre, precio, stock, cantidad = \"Producto 1\", 10.0, 5, 2\n",
        "🧮 Realiza las siguientes comprobaciones usando operadores aritméticos, lógicos y relacionales:\n",
        "\n",
        "Comparar si el stock de un producto es mayor que el de otro.\n",
        "Verificar si un producto específico tiene un precio mayor a 20 y su stock es menor a 5.\n",
        "Comprobar si dos productos tienen el mismo nombre.\n",
        "Evaluar si el precio de un producto multiplicado por su cantidad es mayor que 100.\n",
        "Comparar si la cantidad de un producto es mayor a 10.\n",
        "Aplicar un descuento del 15% en el precio de un producto utilizando operadores de asignación.\n",
        "🖨️ Imprime los resultados de cada una de las condiciones evaluadas.\n",
        "\n",
        "💰 Calcula y almacena el total a pagar por los cinco productos.\n",
        "\n",
        "📊 Finalmente, imprime el total a pagar de la siguiente manera:\n",
        "\n",
        "🛍️ Total a pagar por los productos es: $XX.XX"
      ],
      "metadata": {
        "id": "6F0m9cgETIYD"
      }
    },
    {
      "cell_type": "code",
      "source": [
        "# Declarar 5 productos con nombre, precio, stock, y cantidad deseada\n",
        "nombre1, precio1, stock1, cantidad1 = \"Secador\", 950.0, 10, 1\n",
        "nombre2, precio2, stock2, cantidad2 = \"Jabon\", 25.0, 50, 3\n",
        "nombre3, precio3, stock3, cantidad3 = \"Shampoo\", 40.0, 8, 2\n",
        "nombre4, precio4, stock4, cantidad4 = \"Perfume\", 150.0, 4, 1\n",
        "nombre5, precio5, stock5, cantidad5 = \"Balsamo de Labios\", 15.0, 100, 5\n",
        "\n",
        "# Comprobaciones\n",
        "print(f\"¿El stock de {nombre1} es mayor que el de {nombre2}? {stock1 > stock2}\")\n",
        "print(f\"¿El {nombre4} tiene un precio mayor a 20 y un stock menor a 5? {precio4 > 20 and stock4 < 5}\")\n",
        "print(f\"¿El producto {nombre2} tiene el mismo nombre que {nombre5}? {nombre2 == nombre5}\")\n",
        "print(f\"¿El total del {nombre3} (precio x cantidad) es mayor que 100? {precio3 * cantidad3 > 100}\")\n",
        "print(f\"¿La cantidad solicitada de {nombre5} es mayor a 10? {cantidad5 > 10}\")\n",
        "print(f\"Se aplicó un 15% de descuento al {nombre4}. Precio original: ${precio4}, nuevo precio: ${precio4 * 0.85}\")\n",
        "\n",
        "# Calcular el total a pagar por los 5 productos\n",
        "total1 = precio1 * cantidad1\n",
        "total2 = precio2 * cantidad2\n",
        "total3 = precio3 * cantidad3\n",
        "total4 = precio4 *.85 * cantidad4  # con descuento aplicado\n",
        "total5 = precio5 * cantidad5\n",
        "\n",
        "total_pagar = total1 + total2 + total3 + total4 + total5\n",
        "\n",
        "# Imprimir el total a pagar\n",
        "print(f\"\\n Total a pagar por los productos es: ${total_pagar:.2f}\")"
      ],
      "metadata": {
        "colab": {
          "base_uri": "https://localhost:8080/"
        },
        "id": "64SBTi-gTy1w",
        "outputId": "16dccf87-9498-4006-f1f0-67a0598c5029"
      },
      "execution_count": null,
      "outputs": [
        {
          "output_type": "stream",
          "name": "stdout",
          "text": [
            "¿El stock de Secador es mayor que el de Jabon? False\n",
            "¿El Perfume tiene un precio mayor a 20 y un stock menor a 5? True\n",
            "¿El producto Jabon tiene el mismo nombre que Balsamo de Labios? False\n",
            "¿El total del Shampoo (precio x cantidad) es mayor que 100? False\n",
            "¿La cantidad solicitada de Balsamo de Labios es mayor a 10? False\n",
            "Se aplicó un 15% de descuento al Perfume. Precio original: $150.0, nuevo precio: $127.5\n",
            "\n",
            " Total a pagar por los productos es: $1307.50\n"
          ]
        }
      ]
    },
    {
      "cell_type": "markdown",
      "source": [
        "#Reto 3"
      ],
      "metadata": {
        "id": "I_o1Lgb3Z4h9"
      }
    },
    {
      "cell_type": "code",
      "source": [
        "modelo = input(\"Modelo: \")\n",
        "precio = float(input(\"Precio Total: $\"))\n",
        "meses = int(input(\"Meses de Financiamiento: \"))\n",
        "cuota_mensual = precio / meses\n",
        "\n",
        "print(f\"\\nModelo: {modelo}\")\n",
        "print(f\"Precio total: ${precio:,.2f}\")\n",
        "print(f\"Meses de financiamiento: {meses}\")\n",
        "print(f\"Cuota mensual: ${cuota_mensual:,.2f}\")\n",
        "print(\"\\nTabla de amortización\")\n",
        "saldo_pendiente = precio\n",
        "saldo_pendiente -= cuota_mensual\n",
        "print(f\"Mes 1: Pago ${cuota_mensual:,.2f}, Saldo pendiente ${saldo_pendiente:,.2f}\")\n",
        "saldo_pendiente -= cuota_mensual\n",
        "print(f\"Mes 2: Pago ${cuota_mensual:,.2f}, Saldo pendiente ${saldo_pendiente:,.2f}\")\n",
        "print(\"\\n¡Gracias por utilizar nuestro sistema de financiamiento!\")\n"
      ],
      "metadata": {
        "colab": {
          "base_uri": "https://localhost:8080/"
        },
        "id": "SYMO8QlQZ62j",
        "outputId": "27138600-6f96-4af1-e322-6251e3636835"
      },
      "execution_count": null,
      "outputs": [
        {
          "output_type": "stream",
          "name": "stdout",
          "text": [
            "Modelo: March\n",
            "Precio Total: $120000\n",
            "Meses de Financiamiento: 36\n",
            "\n",
            "Modelo: March\n",
            "Precio total: $120,000.00\n",
            "Meses de financiamiento: 36\n",
            "Cuota mensual: $3,333.33\n",
            "\n",
            "Tabla de amortización\n",
            "Mes 1: Pago $3,333.33, Saldo pendiente $116,666.67\n",
            "Mes 2: Pago $3,333.33, Saldo pendiente $113,333.33\n",
            "\n",
            "¡Gracias por utilizar nuestro sistema de financiamiento!\n"
          ]
        }
      ]
    }
  ]
}