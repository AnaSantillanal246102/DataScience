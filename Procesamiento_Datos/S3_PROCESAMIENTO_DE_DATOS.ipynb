{
  "nbformat": 4,
  "nbformat_minor": 0,
  "metadata": {
    "colab": {
      "provenance": [],
      "include_colab_link": true
    },
    "kernelspec": {
      "name": "python3",
      "display_name": "Python 3"
    },
    "language_info": {
      "name": "python"
    }
  },
  "cells": [
    {
      "cell_type": "markdown",
      "metadata": {
        "id": "view-in-github",
        "colab_type": "text"
      },
      "source": [
        "<a href=\"https://colab.research.google.com/github/AnaSantillanal246102/DataScience/blob/main/S3_PROCESAMIENTO_DE_DATOS.ipynb\" target=\"_parent\"><img src=\"https://colab.research.google.com/assets/colab-badge.svg\" alt=\"Open In Colab\"/></a>"
      ]
    },
    {
      "cell_type": "markdown",
      "source": [
        "# Ejemplo 01: Listas y sus métodos"
      ],
      "metadata": {
        "id": "ej5xd4YN2Nx9"
      }
    },
    {
      "cell_type": "code",
      "execution_count": null,
      "metadata": {
        "id": "j6gV_gwi2KMn"
      },
      "outputs": [],
      "source": [
        "# Declaración de listas, con o sin elementos.\n",
        "lista_vacia = []\n",
        "lista_vacia = list()\n",
        "numeros = [1, 2, 3, 4, 5]\n",
        "elementos = [1, 'hola', True, 3.1416]"
      ]
    },
    {
      "cell_type": "code",
      "source": [
        "# Acceso mediante índice, que comienza en 0\n",
        "numeros = [10, 20, 30, 40, 50]\n",
        "print(numeros[0])  # Salida: 10\n",
        "print(numeros[2])  # Salida: 30"
      ],
      "metadata": {
        "id": "gWmC4GtT2RsD"
      },
      "execution_count": null,
      "outputs": []
    },
    {
      "cell_type": "code",
      "source": [
        "nombres = ['Ana', 'Luis', 'Carlos']\n",
        "nombres.append('Sofía')\n",
        "print(nombres)  # ['Ana', 'Luis', 'Carlos', 'Sofía']"
      ],
      "metadata": {
        "id": "gtAslxbs2r9_"
      },
      "execution_count": null,
      "outputs": []
    },
    {
      "cell_type": "code",
      "source": [
        "numeros = [10, 20, 30, 40, 50]\n",
        "ultimo = numeros.pop()\n",
        "print(ultimo)  # 50\n",
        "print(numeros)  # [10, 20, 30, 40]"
      ],
      "metadata": {
        "id": "AH4KlCcx2sV5"
      },
      "execution_count": null,
      "outputs": []
    },
    {
      "cell_type": "code",
      "source": [
        "edades = [34, 23, 31, 18, 27]\n",
        "edades.sort()\n",
        "print(edades)  # [18, 23, 27, 31, 34]"
      ],
      "metadata": {
        "id": "jyByxcjT2vAz"
      },
      "execution_count": null,
      "outputs": []
    },
    {
      "cell_type": "code",
      "source": [
        "# Sublistas mediante slicing.\n",
        "# Sintaxis: lista[inicio:fin:incremento], el rango es [inicio, fin).\n",
        "\n",
        "numeros = [10, 20, 30, 40, 50, 60, 70, 80]\n",
        "sublista = numeros[2:5]\n",
        "print(sublista)  # [30, 40, 50]"
      ],
      "metadata": {
        "id": "7PZF1IfG2wxW"
      },
      "execution_count": null,
      "outputs": []
    },
    {
      "cell_type": "code",
      "source": [
        "# Crear lista de cuadrados\n",
        "numeros = [1, 2, 3, 4, 5]\n",
        "cuadrados = [numero ** 2 for numero in numeros]\n",
        "print(cuadrados)  # [1, 4, 9, 16, 25]"
      ],
      "metadata": {
        "id": "lrujQFVT20ee"
      },
      "execution_count": null,
      "outputs": []
    },
    {
      "cell_type": "code",
      "source": [
        "numeros = [10, 20, 30]\n",
        "\n",
        "# Intentar acceder a un índice que no existe\n",
        "print(numeros[100])  # Error: IndexError: list index out of range\n",
        "\n",
        "# Intentar acceder a un índice negativo\n",
        "print(numeros[-1])  # Salida: 30"
      ],
      "metadata": {
        "id": "7ox8lLzW23kQ"
      },
      "execution_count": null,
      "outputs": []
    },
    {
      "cell_type": "markdown",
      "source": [
        "# Ejemplo 02: Tuplas y sus métodos"
      ],
      "metadata": {
        "id": "D8M_CGoF27BS"
      }
    },
    {
      "cell_type": "code",
      "source": [
        "# Declaración de tuplas, con o sin elementos.\n",
        "tupla_vacia = ()\n",
        "tupla_vacia = tuple()\n",
        "numeros = (1, 2, 3, 4, 5)\n",
        "elementos = (1, 'hola', True, 3.1416)"
      ],
      "metadata": {
        "id": "i65jOC9y28Db"
      },
      "execution_count": null,
      "outputs": []
    },
    {
      "cell_type": "code",
      "source": [
        "# Acceso mediante índice, que comienza en 0\n",
        "numeros = (10, 20, 30, 40, 50)\n",
        "print(numeros[0])  # Salida: 10\n",
        "print(numeros[2])  # Salida: 30"
      ],
      "metadata": {
        "id": "riNMwlyV29NT"
      },
      "execution_count": null,
      "outputs": []
    },
    {
      "cell_type": "code",
      "source": [
        "elementos = (1, 2, 2, 3, 4, 2)\n",
        "cuenta = elementos.count(2)\n",
        "print(cuenta)  # 3"
      ],
      "metadata": {
        "id": "F34zzD3L3RcZ"
      },
      "execution_count": null,
      "outputs": []
    },
    {
      "cell_type": "code",
      "source": [
        "elementos = (1, 2, 3, 4, 5)\n",
        "indice = elementos.index(3)\n",
        "print(indice)  # 2"
      ],
      "metadata": {
        "id": "7DeQx8GJ3So4"
      },
      "execution_count": null,
      "outputs": []
    },
    {
      "cell_type": "code",
      "source": [
        "# Subtuplas mediante slicing.\n",
        "# Sintaxis: tupla[inicio:fin:incremento], el rango es [inicio, fin).\n",
        "\n",
        "numeros = (10, 20, 30, 40, 50, 60, 70, 80)\n",
        "subtupla = numeros[2:5]\n",
        "print(subtupla)  # (30, 40, 50)"
      ],
      "metadata": {
        "id": "4ImSfwdh3UQj"
      },
      "execution_count": null,
      "outputs": []
    },
    {
      "cell_type": "code",
      "source": [
        "numeros = (10, 20, 30, 40, 50)\n",
        "longitud = len(numeros)\n",
        "print(longitud)  # 5"
      ],
      "metadata": {
        "id": "0JlMy2p43Vr_"
      },
      "execution_count": null,
      "outputs": []
    },
    {
      "cell_type": "markdown",
      "source": [
        "# Ejemplo 03: Conjuntos y sus métodos"
      ],
      "metadata": {
        "id": "MhSaoskF3azT"
      }
    },
    {
      "cell_type": "code",
      "source": [
        "# Declaración de conjuntos, con o sin elementos.\n",
        "conjunto_vacio = set()\n",
        "numeros = {1, 2, 3, 4, 5}\n",
        "elementos = {1, 'hola', True, 3.1416}\n",
        "# Elementos duplicados se eliminan automáticamente.\n",
        "duplicados = {1, 2, 3, 1, 2, 3} # {1, 2, 3}"
      ],
      "metadata": {
        "id": "1odU2IRA3b0N"
      },
      "execution_count": null,
      "outputs": []
    },
    {
      "cell_type": "code",
      "source": [
        "frutas = {'manzana', 'banana'}\n",
        "frutas.add('naranja')\n",
        "print(frutas)  # {'manzana', 'banana', 'naranja'}"
      ],
      "metadata": {
        "id": "DGg8vx3D3da3"
      },
      "execution_count": null,
      "outputs": []
    },
    {
      "cell_type": "code",
      "source": [
        "frutas = {'manzana', 'banana', 'naranja'}\n",
        "frutas.remove('banana')\n",
        "print(frutas)  # {'manzana', 'naranja'}"
      ],
      "metadata": {
        "id": "R3nrG_n03m9n"
      },
      "execution_count": null,
      "outputs": []
    },
    {
      "cell_type": "code",
      "source": [
        "frutas = {'manzana', 'banana', 'naranja'}\n",
        "for fruta in frutas:\n",
        "    print(fruta) # manzana, banana, naranja"
      ],
      "metadata": {
        "id": "0cV30mmi3o7i"
      },
      "execution_count": null,
      "outputs": []
    },
    {
      "cell_type": "code",
      "source": [
        "# Operaciones de conjunto para uniones e intersecciones.\n",
        "a = {1, 2, 3}\n",
        "b = {3, 4, 5}\n",
        "union = a.union(b)\n",
        "interseccion = a.intersection(b)\n",
        "print(union)  # {1, 2, 3, 4, 5}\n",
        "print(interseccion)  # {3}"
      ],
      "metadata": {
        "id": "OpaFRa1W3qWf"
      },
      "execution_count": null,
      "outputs": []
    },
    {
      "cell_type": "code",
      "source": [
        "numeros = [1, 2, 3, 4, 5]\n",
        "\n",
        "# Iterar sobre los elementos de la lista.\n",
        "for numero in numeros:\n",
        "    print(numero)\n",
        "\n",
        "# Verificar si el número 3 está en la lista.\n",
        "while 3 in numeros:\n",
        "    numeros.remove(3)\n",
        "\n",
        "if 3 in numeros:\n",
        "    print(\"El número 3 está en la lista.\")"
      ],
      "metadata": {
        "id": "HhLfS_2H3yVJ"
      },
      "execution_count": null,
      "outputs": []
    },
    {
      "cell_type": "code",
      "source": [
        "nombres = [\"Ana\", \"Luis\", \"Carlos\"]\n",
        "for nombre in nombres:\n",
        "    if nombre == \"Luis\":\n",
        "        print(\"Hemos encontrado a Luis!\")"
      ],
      "metadata": {
        "id": "niMBSv7M34kr"
      },
      "execution_count": null,
      "outputs": []
    },
    {
      "cell_type": "markdown",
      "source": [
        "# Ejemplo 04: Diccionarios y sus métodos"
      ],
      "metadata": {
        "id": "K8tAvYT9372s"
      }
    },
    {
      "cell_type": "code",
      "source": [
        "# Declaración de diccionarios, con o sin elementos.\n",
        "diccionario_vacio = {}\n",
        "diccionario_vacio = dict()\n",
        "datos = {'nombre': 'Mario', 'edad': 30, 'ciudad': 'Saltillo'}"
      ],
      "metadata": {
        "id": "Dxnrh2nz38_p"
      },
      "execution_count": null,
      "outputs": []
    },
    {
      "cell_type": "code",
      "source": [
        "# Acceso mediante la clave\n",
        "datos = {'nombre': 'Mario', 'edad': 30, 'ciudad': 'Saltillo'}\n",
        "print(datos['nombre'])  # Salida: Mario\n",
        "print(datos['edad'])  # Salida: 30\n",
        "print(datos['ciudad'])  # Salida: Saltillo"
      ],
      "metadata": {
        "id": "QwrsSqCN3-ZR"
      },
      "execution_count": null,
      "outputs": []
    },
    {
      "cell_type": "code",
      "source": [
        "persona = {'nombre': 'Magda', 'edad': 30}\n",
        "print(persona.get('nombre', 'No encontrado'))  # Ana\n",
        "print(persona.get('profesión', 'No encontrado'))  # No encontrado"
      ],
      "metadata": {
        "id": "8JkDhiWK4Bf5"
      },
      "execution_count": null,
      "outputs": []
    },
    {
      "cell_type": "code",
      "source": [
        "persona = {'nombre': 'Ana', 'edad': 24}\n",
        "edad = persona.pop('edad')\n",
        "print(edad)  # 24\n",
        "print(persona)  # {'nombre': 'Ana'}"
      ],
      "metadata": {
        "id": "dhkl7OxJ4Eni"
      },
      "execution_count": null,
      "outputs": []
    },
    {
      "cell_type": "code",
      "source": [
        "# Iterar sobre claves y valores\n",
        "datos = {'nombre': 'Carlos', 'edad': 28, 'ciudad': 'Madrid'}\n",
        "for clave, valor in datos.items():\n",
        "    print(f\"{clave}: {valor}\")"
      ],
      "metadata": {
        "id": "oNnVSfw14Nc4"
      },
      "execution_count": null,
      "outputs": []
    },
    {
      "cell_type": "code",
      "source": [
        "# Crear un diccionario con comprensión\n",
        "cuadrados = {x: x**2 for x in range(6)}\n",
        "print(cuadrados)  # {0: 0, 1: 1, 2: 4, 3: 9, 4: 16, 5: 25}"
      ],
      "metadata": {
        "id": "dRkET2Mc4QTP"
      },
      "execution_count": null,
      "outputs": []
    },
    {
      "cell_type": "markdown",
      "source": [
        "#Reto 1\n",
        "Considerando la cantidad de estudiantes, es posible resolver este reto en equipos o de manera individual.\n",
        "\n",
        "📜 Define una lista de tuplas donde cada tupla represente una reservación. Con los siguientes datos:\n",
        "\n",
        "Nombre del cliente\n",
        "Cantidad de personas\n",
        "➕ Añade al menos 5 reservaciones a la lista.\n",
        "\n",
        "➖ Elimina una reservación existente de la lista.\n",
        "\n",
        "🔄 Finalmente recorre la lista de reservaciones e imprime un mensaje personalizado:\n",
        "\n",
        "✉️ Reservación: Mario Gonzalez, Para: 4 personas."
      ],
      "metadata": {
        "id": "sFKjPewTeNtA"
      }
    },
    {
      "cell_type": "code",
      "source": [
        "reservaciones = [\n",
        "    (\"Luis\", 4),\n",
        "    (\"Lucia\", 2),\n",
        "    (\"Carlos\", 6),\n",
        "    (\"Ana\", 3),\n",
        "    (\"Juan\", 5)\n",
        "]\n",
        "reservaciones.remove((\"Juan\", 5))\n",
        "for n, c in reservaciones:\n",
        "    print(f\"Reservación: {n}, Para: {c} personas.\")"
      ],
      "metadata": {
        "colab": {
          "base_uri": "https://localhost:8080/"
        },
        "id": "vABbi50kePW2",
        "outputId": "bada81d5-c1d2-4506-d6cc-b4ec2d7150f1"
      },
      "execution_count": null,
      "outputs": [
        {
          "output_type": "stream",
          "name": "stdout",
          "text": [
            "Reservación: Luis, Para: 4 personas.\n",
            "Reservación: Lucia, Para: 2 personas.\n",
            "Reservación: Carlos, Para: 6 personas.\n",
            "Reservación: Ana, Para: 3 personas.\n"
          ]
        }
      ]
    },
    {
      "cell_type": "markdown",
      "source": [
        "#Reto 2\n",
        "Instrucciones\n",
        "👥 Considerando la cantidad de estudiantes, es posible resolver este reto en equipos o de manera individual.\n",
        "\n",
        "📚 Define un diccionario con al menos 5 libros disponibles. Con los siguientes datos:\n",
        "Puedes usar una clave alfanumérica para cada libro.\n",
        "Cada clave debe contener un diccionario que contenga:\n",
        "título\n",
        "autor\n",
        "año\n",
        "📖 Crear un conjunto vacío que almacenara los libros que serán prestados.\n",
        "\n",
        "➕ Prestar un libro:\n",
        "\n",
        "Verificar si el libro ya está prestado.\n",
        "Si no está prestado, añadirlo al conjunto de libros prestados, y mostrar un mensaje personalizado.\n",
        "✉️ Libro 'The Great Gatsby' prestado con éxito.\n",
        "# o en caso contrario...\n",
        "✉️ Este libro ya está prestado.\n",
        "🔄 Devolver un libro:\n",
        "\n",
        "Verificar si el libro está prestado.\n",
        "Si está prestado, eliminarlo del conjunto de libros prestados, y mostrar un mensaje personalizado.\n",
        "✉️ Libro 'The Great Gatsby' devuelto con éxito.\n",
        "\n",
        "✉️ Este libro no está prestado.\n",
        "📋 Mostrar los libros disponibles:\n",
        "\n",
        "Mostrar un mensaje indicando los libros disponibles para préstamo.\n",
        "📚 Libros disponibles para préstamo:\n",
        "- 'Ready Player One'\n",
        "- 'Top Gun: Maverick'\n",
        "- 'Gran Turismo'\n",
        "✅ Desafío adicional: Considera manejar situaciones como intentos de préstamo de libros inexistentes o la actualización de detalles de libros existentes.\n",
        "\n"
      ],
      "metadata": {
        "id": "dTdsJh6kekEY"
      }
    },
    {
      "cell_type": "code",
      "source": [
        "# Diccionario con libros disponibles\n",
        "libros = {\n",
        "    \"101\": {\"título\": \"El gran Gatsby\", \"autor\": \"F. Scott Fitzgerald\", \"año\": 1925,\"codigo\":101 },\n",
        "    \"102\": {\"título\": \"Ready Player One\", \"autor\": \"Ernest Cline\", \"año\": 2011,\"codigo\":102},\n",
        "    \"103\": {\"título\": \"Top Gun: Maverick\", \"autor\": \"Jim Cash\", \"año\": 2022,\"codigo\":103},\n",
        "    \"104\": {\"título\": \"Gran Turismo\", \"autor\": \"Kazunori Yamauchi\", \"año\": 2013,\"codigo\":104},\n",
        "    \"105\": {\"título\": \"1984\", \"autor\": \"George Orwell\", \"año\": 1949,\"codigo\":105}\n",
        "}\n",
        "\n",
        "libros_prestados = set()\n",
        "\n",
        "def prestar_libro(codigo):\n",
        "    if codigo not in libros:\n",
        "        print(\"El libro con ese código no existe.\")\n",
        "        return\n",
        "    titulo = libros[codigo][\"título\"]\n",
        "    if codigo in libros_prestados:\n",
        "        print(f\"El libro '{titulo}' ya está prestado.\")\n",
        "    else:\n",
        "        libros_prestados.add(codigo)\n",
        "        print(f\"Libro '{titulo}' prestado con éxito.\")\n",
        "def devolver_libro(codigo):\n",
        "    if codigo not in libros:\n",
        "        print(\" El libro con ese código no existe.\")\n",
        "        return\n",
        "    titulo = libros[codigo][\"título\"]\n",
        "    if codigo in libros_prestados:\n",
        "        libros_prestados.remove(codigo)\n",
        "        print(f\" Libro '{titulo}' devuelto con éxito.\")\n",
        "    else:\n",
        "        print(f\" El libro '{titulo}' no está prestado.\")\n",
        "def mostrar_disponibles():\n",
        "    disponibles = [libros[codigo][\"título\"] for codigo in libros if codigo not in libros_prestados]\n",
        "    if disponibles:\n",
        "        print(\" Libros disponibles para préstamo:\")\n",
        "        for titulo in disponibles:\n",
        "            print(f\"- '{titulo}'\")\n",
        "    else:\n",
        "        print(\"No hay libros disponibles en este momento.\")\n",
        "\n",
        "# Desafío adicional: Actualizar información de un libro\n",
        "def actualizar_libro(codigo, titulo=None, autor=None, año=None):\n",
        "    if codigo not in libros:\n",
        "        print(\"No se puede actualizar. El libro no existe.\")\n",
        "        return\n",
        "    if titulo:\n",
        "        libros[codigo][\"título\"] = titulo\n",
        "    if autor:\n",
        "        libros[codigo][\"autor\"] = autor\n",
        "    if año:\n",
        "        libros[codigo][\"año\"] = año\n",
        "\n",
        "    print(f\" Libro '{codigo}' actualizado correctamente.\")\n",
        "\n",
        "# Desafío adicional: Agregar nuevo libro\n",
        "def agregar_libro(codigo, titulo, autor, año):\n",
        "    if codigo in libros:\n",
        "        print(\"Ya existe un libro con ese código.\")\n",
        "        return\n",
        "    libros[codigo] = {\"título\": titulo, \"autor\": autor, \"año\": año}\n",
        "    print(f\" Libro '{titulo}' agregado exitosamente.\")\n",
        "\n",
        "# ------------------- MENÚ -------------------\n",
        "while True:\n",
        "    print(\"\\n====== :libros: MENÚ DE BIBLIOTECA ======\")\n",
        "    print(\"1. Pedir prestado un libro\")\n",
        "    print(\"2. Devolver un libro\")\n",
        "    print(\"3. Ver libros disponibles\")\n",
        "    print(\"4. Añadir un libro\")\n",
        "    print(\"5. Modificar un libro\")\n",
        "    print(\"0. Salir\")\n",
        "    print(\"===================================\")\n",
        "    opcion = input(\"Elige una opción: \")\n",
        "    match opcion:\n",
        "        case \"1\":\n",
        "            mostrar_disponibles()\n",
        "            codigo = input(\"Ingrese el código del libro a prestar: \").strip()\n",
        "            prestar_libro(codigo)\n",
        "        case \"2\":\n",
        "            codigo = input(\"Ingrese el código del libro a devolver: \").strip()\n",
        "            devolver_libro(codigo)\n",
        "        case \"3\":\n",
        "            mostrar_disponibles()\n",
        "        case \"4\":\n",
        "            añadir_libro()\n",
        "        case \"5\":\n",
        "            modificar_libro()\n",
        "        case \"0\":\n",
        "            print(\"Gracias por usar la biblioteca. ¡Hasta luego!\")\n",
        "            break\n",
        "        case _:\n",
        "            print(\" Opción no válida, intenta de nuevo.\")\n"
      ],
      "metadata": {
        "id": "J4VcGPZKh_yT",
        "colab": {
          "base_uri": "https://localhost:8080/",
          "height": 1000
        },
        "outputId": "8ac53ba8-f078-4bdb-c3dc-14bc1beb6f41"
      },
      "execution_count": null,
      "outputs": [
        {
          "output_type": "stream",
          "name": "stdout",
          "text": [
            "\n",
            "====== :libros: MENÚ DE BIBLIOTECA ======\n",
            "1. Pedir prestado un libro\n",
            "2. Devolver un libro\n",
            "3. Ver libros disponibles\n",
            "4. Añadir un libro\n",
            "5. Modificar un libro\n",
            "0. Salir\n",
            "===================================\n",
            "Elige una opción: 1\n",
            " Libros disponibles para préstamo:\n",
            "- 'El gran Gatsby'\n",
            "- 'Ready Player One'\n",
            "- 'Top Gun: Maverick'\n",
            "- 'Gran Turismo'\n",
            "- '1984'\n",
            "Ingrese el código del libro a prestar: 101\n",
            "Libro 'El gran Gatsby' prestado con éxito.\n",
            "\n",
            "====== :libros: MENÚ DE BIBLIOTECA ======\n",
            "1. Pedir prestado un libro\n",
            "2. Devolver un libro\n",
            "3. Ver libros disponibles\n",
            "4. Añadir un libro\n",
            "5. Modificar un libro\n",
            "0. Salir\n",
            "===================================\n",
            "Elige una opción: 3\n",
            " Libros disponibles para préstamo:\n",
            "- 'Ready Player One'\n",
            "- 'Top Gun: Maverick'\n",
            "- 'Gran Turismo'\n",
            "- '1984'\n",
            "\n",
            "====== :libros: MENÚ DE BIBLIOTECA ======\n",
            "1. Pedir prestado un libro\n",
            "2. Devolver un libro\n",
            "3. Ver libros disponibles\n",
            "4. Añadir un libro\n",
            "5. Modificar un libro\n",
            "0. Salir\n",
            "===================================\n"
          ]
        },
        {
          "output_type": "error",
          "ename": "KeyboardInterrupt",
          "evalue": "Interrupted by user",
          "traceback": [
            "\u001b[0;31m---------------------------------------------------------------------------\u001b[0m",
            "\u001b[0;31mKeyboardInterrupt\u001b[0m                         Traceback (most recent call last)",
            "\u001b[0;32m/tmp/ipython-input-4088844682.py\u001b[0m in \u001b[0;36m<cell line: 0>\u001b[0;34m()\u001b[0m\n\u001b[1;32m     71\u001b[0m     \u001b[0mprint\u001b[0m\u001b[0;34m(\u001b[0m\u001b[0;34m\"0. Salir\"\u001b[0m\u001b[0;34m)\u001b[0m\u001b[0;34m\u001b[0m\u001b[0;34m\u001b[0m\u001b[0m\n\u001b[1;32m     72\u001b[0m     \u001b[0mprint\u001b[0m\u001b[0;34m(\u001b[0m\u001b[0;34m\"===================================\"\u001b[0m\u001b[0;34m)\u001b[0m\u001b[0;34m\u001b[0m\u001b[0;34m\u001b[0m\u001b[0m\n\u001b[0;32m---> 73\u001b[0;31m     \u001b[0mopcion\u001b[0m \u001b[0;34m=\u001b[0m \u001b[0minput\u001b[0m\u001b[0;34m(\u001b[0m\u001b[0;34m\"Elige una opción: \"\u001b[0m\u001b[0;34m)\u001b[0m\u001b[0;34m\u001b[0m\u001b[0;34m\u001b[0m\u001b[0m\n\u001b[0m\u001b[1;32m     74\u001b[0m     \u001b[0mmatch\u001b[0m \u001b[0mopcion\u001b[0m\u001b[0;34m:\u001b[0m\u001b[0;34m\u001b[0m\u001b[0;34m\u001b[0m\u001b[0m\n\u001b[1;32m     75\u001b[0m         \u001b[0mcase\u001b[0m \u001b[0;34m\"1\"\u001b[0m\u001b[0;34m:\u001b[0m\u001b[0;34m\u001b[0m\u001b[0;34m\u001b[0m\u001b[0m\n",
            "\u001b[0;32m/usr/local/lib/python3.12/dist-packages/ipykernel/kernelbase.py\u001b[0m in \u001b[0;36mraw_input\u001b[0;34m(self, prompt)\u001b[0m\n\u001b[1;32m   1175\u001b[0m                 \u001b[0;34m\"raw_input was called, but this frontend does not support input requests.\"\u001b[0m\u001b[0;34m\u001b[0m\u001b[0;34m\u001b[0m\u001b[0m\n\u001b[1;32m   1176\u001b[0m             )\n\u001b[0;32m-> 1177\u001b[0;31m         return self._input_request(\n\u001b[0m\u001b[1;32m   1178\u001b[0m             \u001b[0mstr\u001b[0m\u001b[0;34m(\u001b[0m\u001b[0mprompt\u001b[0m\u001b[0;34m)\u001b[0m\u001b[0;34m,\u001b[0m\u001b[0;34m\u001b[0m\u001b[0;34m\u001b[0m\u001b[0m\n\u001b[1;32m   1179\u001b[0m             \u001b[0mself\u001b[0m\u001b[0;34m.\u001b[0m\u001b[0m_parent_ident\u001b[0m\u001b[0;34m[\u001b[0m\u001b[0;34m\"shell\"\u001b[0m\u001b[0;34m]\u001b[0m\u001b[0;34m,\u001b[0m\u001b[0;34m\u001b[0m\u001b[0;34m\u001b[0m\u001b[0m\n",
            "\u001b[0;32m/usr/local/lib/python3.12/dist-packages/ipykernel/kernelbase.py\u001b[0m in \u001b[0;36m_input_request\u001b[0;34m(self, prompt, ident, parent, password)\u001b[0m\n\u001b[1;32m   1217\u001b[0m             \u001b[0;32mexcept\u001b[0m \u001b[0mKeyboardInterrupt\u001b[0m\u001b[0;34m:\u001b[0m\u001b[0;34m\u001b[0m\u001b[0;34m\u001b[0m\u001b[0m\n\u001b[1;32m   1218\u001b[0m                 \u001b[0;31m# re-raise KeyboardInterrupt, to truncate traceback\u001b[0m\u001b[0;34m\u001b[0m\u001b[0;34m\u001b[0m\u001b[0m\n\u001b[0;32m-> 1219\u001b[0;31m                 \u001b[0;32mraise\u001b[0m \u001b[0mKeyboardInterrupt\u001b[0m\u001b[0;34m(\u001b[0m\u001b[0;34m\"Interrupted by user\"\u001b[0m\u001b[0;34m)\u001b[0m \u001b[0;32mfrom\u001b[0m \u001b[0;32mNone\u001b[0m\u001b[0;34m\u001b[0m\u001b[0;34m\u001b[0m\u001b[0m\n\u001b[0m\u001b[1;32m   1220\u001b[0m             \u001b[0;32mexcept\u001b[0m \u001b[0mException\u001b[0m\u001b[0;34m:\u001b[0m\u001b[0;34m\u001b[0m\u001b[0;34m\u001b[0m\u001b[0m\n\u001b[1;32m   1221\u001b[0m                 \u001b[0mself\u001b[0m\u001b[0;34m.\u001b[0m\u001b[0mlog\u001b[0m\u001b[0;34m.\u001b[0m\u001b[0mwarning\u001b[0m\u001b[0;34m(\u001b[0m\u001b[0;34m\"Invalid Message:\"\u001b[0m\u001b[0;34m,\u001b[0m \u001b[0mexc_info\u001b[0m\u001b[0;34m=\u001b[0m\u001b[0;32mTrue\u001b[0m\u001b[0;34m)\u001b[0m\u001b[0;34m\u001b[0m\u001b[0;34m\u001b[0m\u001b[0m\n",
            "\u001b[0;31mKeyboardInterrupt\u001b[0m: Interrupted by user"
          ]
        }
      ]
    }
  ]
}
