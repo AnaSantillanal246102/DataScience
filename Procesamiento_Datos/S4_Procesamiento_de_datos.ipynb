{
  "nbformat": 4,
  "nbformat_minor": 0,
  "metadata": {
    "colab": {
      "provenance": [],
      "include_colab_link": true
    },
    "kernelspec": {
      "name": "python3",
      "display_name": "Python 3"
    },
    "language_info": {
      "name": "python"
    }
  },
  "cells": [
    {
      "cell_type": "markdown",
      "metadata": {
        "id": "view-in-github",
        "colab_type": "text"
      },
      "source": [
        "<a href=\"https://colab.research.google.com/github/AnaSantillanal246102/DataScience/blob/main/S4_Procesamiento_de_datos.ipynb\" target=\"_parent\"><img src=\"https://colab.research.google.com/assets/colab-badge.svg\" alt=\"Open In Colab\"/></a>"
      ]
    },
    {
      "cell_type": "markdown",
      "source": [
        "# Ejemplo 01: Definición de funciones\n",
        "\n"
      ],
      "metadata": {
        "id": "PcZvHJLJ6mkH"
      }
    },
    {
      "cell_type": "code",
      "source": [
        "import functools"
      ],
      "metadata": {
        "id": "ePlIgIQb_fsv"
      },
      "execution_count": null,
      "outputs": []
    },
    {
      "cell_type": "code",
      "execution_count": null,
      "metadata": {
        "id": "FckWp6be6l-f"
      },
      "outputs": [],
      "source": [
        "def nombre_funcion(parametro1, parametro2, ...):\n",
        "    # Cuerpo de la función\n",
        "    # Código a ejecutar\n",
        "    return valor"
      ]
    },
    {
      "cell_type": "code",
      "source": [
        "def saludo():\n",
        "    print(\"¡Hola desde una función sin argumentos!\")\n",
        "\n",
        "# Llamada a la función\n",
        "saludo() # salida: ¡Hola desde una función sin argumentos!"
      ],
      "metadata": {
        "id": "eTlX52k56qDV"
      },
      "execution_count": null,
      "outputs": []
    },
    {
      "cell_type": "code",
      "source": [
        "def suma(a, b):\n",
        "    return a + b\n",
        "\n",
        "# Llamada a la función, pasando los argumentos requeridos.\n",
        "print(suma(5, 3))  # salida: 8"
      ],
      "metadata": {
        "id": "u4dtGvMv6sBv"
      },
      "execution_count": null,
      "outputs": []
    },
    {
      "cell_type": "code",
      "source": [
        "def lista_argumentos(*args):\n",
        "    for arg in args:\n",
        "        print(arg)\n",
        "\n",
        "# Llamada a la función con diferentes cantidades de argumentos.\n",
        "lista_argumentos(1, 2, 3, 4, 5)"
      ],
      "metadata": {
        "id": "GcclcGNe6td2",
        "colab": {
          "base_uri": "https://localhost:8080/"
        },
        "outputId": "afd1bfdf-4eee-4556-fbd9-e52defdd472c"
      },
      "execution_count": null,
      "outputs": [
        {
          "output_type": "stream",
          "name": "stdout",
          "text": [
            "1\n",
            "2\n",
            "3\n",
            "4\n",
            "5\n"
          ]
        }
      ]
    },
    {
      "cell_type": "code",
      "source": [
        "def lista_kwargs(**kwargs):\n",
        "    for clave, valor in kwargs.items():\n",
        "        print(f\"{clave}-------- {valor}\")\n",
        "\n",
        "# Llamada a la función con argumentos llave-valor.\n",
        "lista_kwargs(nombre=\"Juan\", edad=25, ciudad=\"CDMX\",pais=\"Mexico\")"
      ],
      "metadata": {
        "id": "r7Hwb8a_62nR",
        "outputId": "0d7f44fd-5d6c-4862-f899-a5619e932698",
        "colab": {
          "base_uri": "https://localhost:8080/"
        }
      },
      "execution_count": null,
      "outputs": [
        {
          "output_type": "stream",
          "name": "stdout",
          "text": [
            "nombre-------- Juan\n",
            "edad-------- 25\n",
            "ciudad-------- CDMX\n",
            "pais-------- Mexico\n"
          ]
        }
      ]
    },
    {
      "cell_type": "code",
      "source": [
        "def saludo(nombre=\"Invitado\"):\n",
        "    print(f\"¡Hola {nombre}!\")\n",
        "\n",
        "# Llamada a la función sin argumentos.\n",
        "saludo()  # salida: ¡Hola Invitado!\n",
        "# Llamada a la función con argumento.\n",
        "saludo(\"Mario\")  # salida: ¡Hola Mario!"
      ],
      "metadata": {
        "id": "8ApSKoK66_zM",
        "colab": {
          "base_uri": "https://localhost:8080/"
        },
        "outputId": "db9166a4-c7a5-4103-f204-d9f1332c9529"
      },
      "execution_count": null,
      "outputs": [
        {
          "output_type": "stream",
          "name": "stdout",
          "text": [
            "¡Hola Invitado!\n",
            "¡Hola Mario!\n"
          ]
        }
      ]
    },
    {
      "cell_type": "code",
      "source": [
        "variable_local = \"Ana\"\n",
        "def funcion():\n",
        "    variable_local = \"Soy una variable local\"\n",
        "    print(variable_local)\n",
        "\n",
        "funcion() # salida: Soy una variable local\n",
        "print(variable_local)  # NameError: name 'variable_local' is not defined"
      ],
      "metadata": {
        "id": "pHbqi6mf7Chd",
        "colab": {
          "base_uri": "https://localhost:8080/"
        },
        "outputId": "7952c421-f45d-4710-8398-7f01ec0b2429"
      },
      "execution_count": null,
      "outputs": [
        {
          "output_type": "stream",
          "name": "stdout",
          "text": [
            "Soy una variable local\n",
            "Ana\n"
          ]
        }
      ]
    },
    {
      "cell_type": "markdown",
      "source": [
        "# Ejemplo 02: Funciones lambda\n",
        "\n"
      ],
      "metadata": {
        "id": "kwiUsMPb9Xrw"
      }
    },
    {
      "cell_type": "code",
      "source": [
        "lambda argumentos: expresión"
      ],
      "metadata": {
        "id": "Jm57a2tj9Ydy"
      },
      "execution_count": null,
      "outputs": []
    },
    {
      "cell_type": "code",
      "source": [
        " # Aplicación a la función lambda\n",
        " print((lambda x, y: x + y)(5, 3))  # salida: 8"
      ],
      "metadata": {
        "id": "DJ--kucN9Z25"
      },
      "execution_count": null,
      "outputs": []
    },
    {
      "cell_type": "code",
      "source": [
        " # Asignación de la función lambda a una variable\n",
        " suma = lambda x, y: x + y\n",
        " print(suma(5, 3))  # salida: 8"
      ],
      "metadata": {
        "id": "vV9UdvS29cUy"
      },
      "execution_count": null,
      "outputs": []
    },
    {
      "cell_type": "code",
      "source": [
        " par_o_impar = lambda x: \"Par\" if x % 2 == 0 else \"Impar\"\n",
        "\n",
        " # Aplicación a la función lambda\n",
        " print(par_o_impar(5))  # salida: Impar"
      ],
      "metadata": {
        "id": "cVkiLdDx9c5M",
        "colab": {
          "base_uri": "https://localhost:8080/"
        },
        "outputId": "2e518601-57c2-4aae-ee92-e25a56417d6b"
      },
      "execution_count": null,
      "outputs": [
        {
          "output_type": "stream",
          "name": "stdout",
          "text": [
            "Impar\n"
          ]
        }
      ]
    },
    {
      "cell_type": "markdown",
      "source": [
        "# Ejemplo 03: Control excepciones"
      ],
      "metadata": {
        "id": "sOHoaoTj-L0H"
      }
    },
    {
      "cell_type": "code",
      "source": [
        "try:\n",
        "    # Bloque de código que puede generar una excepción\n",
        "    pass\n",
        "except Exception as e:\n",
        "    # Bloque de código que se ejecuta si se genera una excepción\n",
        "    pass\n",
        "else:\n",
        "    # Bloque de código que se ejecuta si no se genera una excepción\n",
        "    pass\n",
        "finally:\n",
        "    # Bloque de código que se ejecuta siempre, haya o no excepción\n",
        "    pass"
      ],
      "metadata": {
        "id": "cgoPMLJ2-BNN"
      },
      "execution_count": null,
      "outputs": []
    },
    {
      "cell_type": "code",
      "source": [
        "try:\n",
        "   edad = int(input(\"Ingrese su edad: \"))\n",
        "except ValueError:\n",
        "   print(\"La entrada no es un número entero válido.\")\n",
        "else:\n",
        "   print(f\"Edad ingresada: {edad}\")\n",
        "finally:\n",
        "   print(\"Operación de ingreso de edad completada.\")"
      ],
      "metadata": {
        "id": "eZ_BGS5l-d0r",
        "colab": {
          "base_uri": "https://localhost:8080/"
        },
        "outputId": "b2500de0-3ff1-494d-8cff-7068c56c2261"
      },
      "execution_count": null,
      "outputs": [
        {
          "output_type": "stream",
          "name": "stdout",
          "text": [
            "Ingrese su edad: ana\n",
            "La entrada no es un número entero válido.\n",
            "Operación de ingreso de edad completada.\n"
          ]
        }
      ]
    },
    {
      "cell_type": "code",
      "source": [
        "try:\n",
        "   numerador = 10\n",
        "   denominador = 0\n",
        "   resultado = numerador / denominador\n",
        "except ZeroDivisionError:\n",
        "   print(\"No se puede dividir por cero.\")\n",
        "else:\n",
        "   print(f\"El resultado de la división es {resultado}.\")\n",
        "finally:\n",
        "   print(\"Operación de división completada.\")"
      ],
      "metadata": {
        "id": "u34ivBVH-my4"
      },
      "execution_count": null,
      "outputs": []
    },
    {
      "cell_type": "markdown",
      "source": [
        "# Ejemplo 04: Map, Filter y Reduce"
      ],
      "metadata": {
        "id": "60SshHyA_Lcy"
      }
    },
    {
      "cell_type": "code",
      "source": [
        "# Usando una función normal:\n",
        "def cuadrado(x):\n",
        "    return x ** 2\n",
        "\n",
        "numeros = [1, 2, 3, 4, 5]\n",
        "resultados = list(map(cuadrado, numeros))\n",
        "print(resultados)  # salida: [1, 4, 9, 16, 25]\n",
        "\n",
        "# Usando una función lambda:\n",
        "numeros = [1, 2, 3, 4, 5]\n",
        "resultados = list(map(lambda x: x ** 2, numeros))\n",
        "print(resultados)  # salida: [1, 4, 9, 16, 25]"
      ],
      "metadata": {
        "id": "AxTl6yvF_Nja"
      },
      "execution_count": null,
      "outputs": []
    },
    {
      "cell_type": "code",
      "source": [
        "def cuadrado(x):\n",
        "    return x ** 2\n",
        "\n",
        "numeros = [1, 2, 3, 4, 5]\n",
        "resultados = list(map(cuadrado, numeros))\n",
        "print(resultados)  # salida: [1, 4, 9, 16, 25]"
      ],
      "metadata": {
        "colab": {
          "base_uri": "https://localhost:8080/"
        },
        "id": "eIWXVutW5C3G",
        "outputId": "a60e38d6-b8d9-4c03-f51a-2143a62e02d1"
      },
      "execution_count": null,
      "outputs": [
        {
          "output_type": "stream",
          "name": "stdout",
          "text": [
            "[1, 4, 9, 16, 25]\n"
          ]
        }
      ]
    },
    {
      "cell_type": "code",
      "source": [
        "# Usando una función normal:\n",
        "def es_par(x):\n",
        "    return x % 2 == 0\n",
        "\n",
        "numeros = [1, 2, 3, 4, 5, 6]\n",
        "pares = list(filter(es_par, numeros))\n",
        "print(pares)  # salida: [2, 4, 6]\n",
        "\n",
        "# Usando una función lambda:\n",
        "numeros = [1, 2, 3, 4, 5, 6]\n",
        "pares = list(filter(lambda x: x % 2 == 0, numeros))\n",
        "print(pares)  # salida: [2, 4, 6]"
      ],
      "metadata": {
        "id": "AwzAaUqo_O8_"
      },
      "execution_count": null,
      "outputs": []
    },
    {
      "cell_type": "code",
      "source": [
        "from functools import reduce\n",
        "\n",
        "def sumar(x, y):\n",
        "    return x + y\n",
        "\n",
        "numeros = [1, 2, 3, 4, 5]\n",
        "total = reduce(sumar, numeros)\n",
        "print(total)  # salida: 15\n",
        "\n",
        "# Usando una función lambda:\n",
        "numeros = [1, 2, 3, 4, 5]\n",
        "total = reduce(lambda x, y: x + y, numeros)\n",
        "print(total)  # salida: 15"
      ],
      "metadata": {
        "id": "2UinbgLt_Pll"
      },
      "execution_count": null,
      "outputs": []
    },
    {
      "cell_type": "code",
      "source": [
        "resultados_map = map(lambda x: x ** 2, [1, 2, 3, 4, 5])\n",
        "print(resultados_map)  # <map object at 0x7f9d1f3b3a90>"
      ],
      "metadata": {
        "id": "WVOXuqIA_YWy"
      },
      "execution_count": null,
      "outputs": []
    },
    {
      "cell_type": "markdown",
      "source": [
        "#Reto 1"
      ],
      "metadata": {
        "id": "KJuJz7bza_Lx"
      }
    },
    {
      "cell_type": "code",
      "source": [
        "tiempos = [2, 1.5, 2.5, 3, 1, 4, 2]\n",
        "def promedio_diario(tiempo):\n",
        "    if len(tiempo) == 0:\n",
        "        return 0\n",
        "    return sum(tiempo) / len(tiempo)\n",
        "promedio_horas = promedio_diario(tiempos)\n",
        "print(f\"El tiempo promedio diario en redes sociales es de {promedio_horas:.2f} horas.\")\n",
        "horas_a_minutos = lambda horas: horas * 60\n",
        "\n",
        "promedio_minutos = horas_a_minutos(promedio_horas)\n",
        "print(f\"El tiempo promedio diario en redes sociales es de {promedio_minutos:.2f} minutos por día.\")"
      ],
      "metadata": {
        "colab": {
          "base_uri": "https://localhost:8080/"
        },
        "id": "pKfeIjZ8bC5F",
        "outputId": "d131abfb-05f2-4ab0-e783-b2c42c908dfa"
      },
      "execution_count": null,
      "outputs": [
        {
          "output_type": "stream",
          "name": "stdout",
          "text": [
            "El tiempo promedio diario en redes sociales es de 2.29 horas.\n",
            "El tiempo promedio diario en redes sociales es de 137.14 minutos por día.\n"
          ]
        }
      ]
    },
    {
      "cell_type": "code",
      "source": [
        "minutos_a_horas = lambda minutos: minutos / 60\n",
        "segundos_a_horas = lambda segundos: segundos / 3600\n",
        "# Diccionario con tiempos de varios usuarios\n",
        "usuarios = {\n",
        "    \"Ana\": [2, 2, 1.5, 3, 2.5, 1, 0],\n",
        "    \"Luis\": [1, 1, 1, 1, 1, 1, 1],\n",
        "    \"Sofía\": [3, 3, 4, 2, 4, 3.5, 5],\n",
        "    \"Carlos\": []\n",
        "}\n",
        "\n",
        "# Calcular y mostrar promedios para cada usuario\n",
        "for nombre, tiempos in usuarios.items():\n",
        "    promedio = promedio_diario(tiempos)\n",
        "    minutos = horas_a_minutos(promedio)\n",
        "    print(f\"{nombre}: {promedio:.2f} horas / {minutos:.2f} minutos diarios.\")"
      ],
      "metadata": {
        "colab": {
          "base_uri": "https://localhost:8080/"
        },
        "id": "Hoq1z0ZXcwr3",
        "outputId": "c084cfc4-471f-4d22-dbff-32cd39c8634d"
      },
      "execution_count": null,
      "outputs": [
        {
          "output_type": "stream",
          "name": "stdout",
          "text": [
            "Ana: 1.71 horas / 102.86 minutos diarios.\n",
            "Luis: 1.00 horas / 60.00 minutos diarios.\n",
            "Sofía: 3.50 horas / 210.00 minutos diarios.\n",
            "Carlos: 0.00 horas / 0.00 minutos diarios.\n"
          ]
        }
      ]
    },
    {
      "cell_type": "markdown",
      "source": [
        "#Reto 2"
      ],
      "metadata": {
        "id": "WomiBWh9dZXM"
      }
    },
    {
      "cell_type": "code",
      "source": [
        "productos = [\n",
        "    {\"nombre\": \"Smartphone Galaxy\", \"marca\": \"Samsung\", \"categoria\": \"Electrónica\"},\n",
        "    {\"nombre\": \"Laptop XPS\", \"marca\": \"Dell\", \"categoria\": \"Computadoras\"},\n",
        "    {\"nombre\": \"Auriculares SoundPro\", \"marca\": \"Marca A\", \"categoria\": \"Electrónica\"},\n",
        "    {\"nombre\": \"Refrigerador CoolMax\", \"marca\": \"LG\", \"categoria\": \"Electrodomésticos\"},\n",
        "    {\"nombre\": \"Smartwatch Fit\", \"marca\": \"Marca A\", \"categoria\": \"Wearables\"},\n",
        "]\n",
        "def buscar_productos(nombre=None, marca=None, categoria=None):\n",
        "    try:\n",
        "        resultados = []\n",
        "        for producto in productos:\n",
        "            coincide = True\n",
        "            if nombre and nombre not in producto[\"nombre\"]:\n",
        "                coincide = False\n",
        "            if marca and marca != producto[\"marca\"]:\n",
        "                coincide = False\n",
        "            if categoria and categoria != producto[\"categoria\"]:\n",
        "                coincide = False\n",
        "            if coincide:\n",
        "                resultados.append(producto)\n",
        "        if resultados:\n",
        "            for p in resultados:\n",
        "                print(f\" Producto encontrado: {p['nombre']} - Marca: {p['marca']} - Categoría: {p['categoria']}\")\n",
        "        else:\n",
        "            print(\" No se encontraron productos que coincidan con los criterios de búsqueda.\")\n",
        "    except Exception as e:\n",
        "        print(f\"⚠️ Ocurrió un error durante la búsqueda: {e}\")\n",
        "print(\"Marca A:\")\n",
        "buscar_productos(marca=\"Marca A\")\n",
        "print(\"\\nCategoría 'Electrónica':\")\n",
        "buscar_productos(categoria=\"Electrónica\")\n",
        "print(\"\\nMarca A - Categoría 'Wearables':\")\n",
        "buscar_productos(marca=\"Marca A\", categoria=\"Wearables\")\n",
        "print(\"\\nProducto por nombre:\")\n",
        "buscar_productos(nombre=\"Laptop XPS\")\n",
        "print(\"\\nSin coincidencias:\")\n",
        "buscar_productos(marca=\"Sony\", categoria=\"Videojuegos\")"
      ],
      "metadata": {
        "colab": {
          "base_uri": "https://localhost:8080/"
        },
        "id": "5ybP3obaddMQ",
        "outputId": "9d27ffb5-504a-452c-ee47-9ffbd594ec2d"
      },
      "execution_count": null,
      "outputs": [
        {
          "output_type": "stream",
          "name": "stdout",
          "text": [
            "Marca A:\n",
            " Producto encontrado: Auriculares SoundPro - Marca: Marca A - Categoría: Electrónica\n",
            " Producto encontrado: Smartwatch Fit - Marca: Marca A - Categoría: Wearables\n",
            "\n",
            "Categoría 'Electrónica':\n",
            " Producto encontrado: Smartphone Galaxy - Marca: Samsung - Categoría: Electrónica\n",
            " Producto encontrado: Auriculares SoundPro - Marca: Marca A - Categoría: Electrónica\n",
            "\n",
            "Marca A - Categoría 'Wearables':\n",
            " Producto encontrado: Smartwatch Fit - Marca: Marca A - Categoría: Wearables\n",
            "\n",
            "Producto por nombre:\n",
            " Producto encontrado: Laptop XPS - Marca: Dell - Categoría: Computadoras\n",
            "\n",
            "Sin coincidencias:\n",
            " No se encontraron productos que coincidan con los criterios de búsqueda.\n"
          ]
        }
      ]
    },
    {
      "cell_type": "markdown",
      "source": [
        "#Reto 3"
      ],
      "metadata": {
        "id": "iw25lpYLfv_V"
      }
    },
    {
      "cell_type": "code",
      "source": [
        "ventas = [\n",
        "    {\"id\": 1, \"monto\": 150},\n",
        "    {\"id\": 2, \"monto\": 200},\n",
        "    {\"id\": 3, \"monto\": 75},\n",
        "    {\"id\": 4, \"monto\": 300},\n",
        "    {\"id\": 5, \"monto\": 85}\n",
        "]\n",
        "umbral = 100\n",
        "ventas_superiores = list(filter(lambda v: v[\"monto\"] > umbral, ventas))\n",
        "print(\"Ventas que superan el umbral de ingresos:\")\n",
        "for venta in ventas_superiores:\n",
        "    print(venta)\n",
        "tasa_impuesto = 0.15\n",
        "ventas_con_impuesto = list(map(lambda v: {\n",
        "    \"id\": v[\"id\"],\n",
        "    \"monto\": round(v[\"monto\"] * (1 + tasa_impuesto), 2)\n",
        "}, ventas))\n",
        "print(\"\\nVentas con impuesto aplicado:\")\n",
        "for venta in ventas_con_impuesto:\n",
        "    print(venta)\n",
        "from functools import reduce\n",
        "ingreso_total = reduce(lambda acc, v: acc + v[\"monto\"], ventas, 0)\n",
        "print(f\"\\nIngreso total de ventas: {ingreso_total}\")"
      ],
      "metadata": {
        "colab": {
          "base_uri": "https://localhost:8080/"
        },
        "id": "yqPiZt7Lfxsa",
        "outputId": "e03233d3-18e9-4cee-8582-fb10c43da8af"
      },
      "execution_count": null,
      "outputs": [
        {
          "output_type": "stream",
          "name": "stdout",
          "text": [
            "Ventas que superan el umbral de ingresos:\n",
            "{'id': 1, 'monto': 150}\n",
            "{'id': 2, 'monto': 200}\n",
            "{'id': 4, 'monto': 300}\n",
            "\n",
            "Ventas con impuesto aplicado:\n",
            "{'id': 1, 'monto': 172.5}\n",
            "{'id': 2, 'monto': 230.0}\n",
            "{'id': 3, 'monto': 86.25}\n",
            "{'id': 4, 'monto': 345.0}\n",
            "{'id': 5, 'monto': 97.75}\n",
            "\n",
            "Ingreso total de ventas: 810\n"
          ]
        }
      ]
    }
  ]
}
